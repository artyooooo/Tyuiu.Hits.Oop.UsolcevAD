{
 "cells": [
  {
   "cell_type": "markdown",
   "metadata": {},
   "source": [
    "<h1 style=\"color:DodgerBlue\">Индивидальный проект</h1>"
   ]
  },
  {
   "cell_type": "markdown",
   "metadata": {},
   "source": [
    "<h2 style=\"color:DodgerBlue\">Название проекта:</h2>\n",
    "\n",
    "----\n",
    "\n",
    "### Вариант задания 17\n",
    "\n"
   ]
  },
  {
   "cell_type": "markdown",
   "metadata": {},
   "source": [
    "<h2 style=\"color:DodgerBlue\">Описание проекта:</h2>\n",
    "\n",
    "Описание задачи: Создать базовый класс ShippingOption в C#, который будет представлять различные опции доставки. На основе этого класса разработать 2-3 производных класса, демонстрирующих принципы наследования и полиморфизма. В каждом из классов должны быть реализованы новые атрибуты и методы, а также переопределены некоторые методы базового класса для демонстрации полиморфизма.\n",
    "\n",
    "Требования к базовому классу ShippingOption: • Атрибуты: ID опции доставки (DeliveryOptionId), Название опции доставки (DeliveryOptionName), Стоимость доставки (Cost). • Методы: o CalculateCost(): метод для расчета стоимости доставки. o EstimateDeliveryTime(): метод для оценки времени доставки. o GetDeliveryDetails(): метод для получения деталей опции доставки.\n",
    "\n",
    "Требования к производным классам:\n",
    "\n",
    "СтандартнаяДоставка (StandardDelivery): Должна содержать дополнительные атрибуты, такие как Среднее время доставки (AverageDeliveryTime). Метод EstimateDeliveryTime() должен быть переопределен для предоставления среднего времени доставки.\n",
    "\n",
    "ЭкспрессДоставка (ExpressDelivery): Должна содержать дополнительные атрибуты, такие как Минимальное время доставки (MinDeliveryTime). Метод CalculateCost() должен быть переопределен для увеличения стоимости доставки в случае необходимости ускорения доставки.\n",
    "\n",
    "Самовывоз (Pickup) (если требуется третий класс): Должна содержать дополнительные атрибуты, такие как Адрес пункта самовывоза (PickupAddress). Метод GetDeliveryDetails() должен быть переопределен для отображения адреса пункта самовывоза.\n",
    "\n",
    "\n",
    "#### Дополнительное задание\n",
    "Добавьте к сущестующим классам конструктора классов с использованием гетторов и сетторов и реализуйте взаимодействие объектов между собой"
   ]
  },
  {
   "cell_type": "markdown",
   "metadata": {},
   "source": [
    "<h2 style=\"color:DodgerBlue\">Реализация:</h2>\n",
    "\n",
    "----"
   ]
  },
  {
   "cell_type": "code",
   "execution_count": 1,
   "metadata": {
    "dotnet_interactive": {
     "language": "csharp"
    },
    "polyglot_notebook": {
     "kernelName": "csharp"
    }
   },
   "outputs": [],
   "source": [
    "public class ShippingOption\n",
    "{\n",
    "    public int DeliveryOptionId;\n",
    "    public string DeliveryOptionName;\n",
    "    public double Cost;\n",
    "\n",
    "    public ShippingOption(int id, string name, double cost)\n",
    "    {\n",
    "        DeliveryOptionId = id;\n",
    "        DeliveryOptionName = name;\n",
    "        Cost = cost;\n",
    "    }\n",
    "\n",
    "    public virtual double CalculateCost() \n",
    "    {\n",
    "        return Cost;\n",
    "    }\n",
    "\n",
    "    public virtual string EstimateDeliveryTime()\n",
    "    {\n",
    "        return \"Время доставки неизвестно.\";\n",
    "    }\n",
    "\n",
    "    public virtual string GetDeliveryDetails()\n",
    "    {\n",
    "        return $\"ID клиента: {DeliveryOptionId}. Тип доставки: {DeliveryOptionName}. Стоимость: {Cost}Р\";\n",
    "    }\n",
    "}\n",
    "\n",
    "public class StandardDelivery : ShippingOption\n",
    "{\n",
    "    public TimeSpan AverageDeliveryTime;\n",
    "\n",
    "    public StandardDelivery(int id, string name, double cost, TimeSpan averageDeliveryTime)\n",
    "        : base(id, name, cost)\n",
    "    {\n",
    "        AverageDeliveryTime = averageDeliveryTime;\n",
    "    }\n",
    "\n",
    "    public override string EstimateDeliveryTime()\n",
    "    {\n",
    "        return $\"Среднее время доставки: {AverageDeliveryTime.TotalDays} дня.\";\n",
    "    }\n",
    "}\n",
    "\n",
    "public class ExpressDelivery : ShippingOption\n",
    "{\n",
    "    public TimeSpan MinDeliveryTime;\n",
    "\n",
    "    public ExpressDelivery(int id, string name, double cost, TimeSpan minDeliveryTime)\n",
    "        : base(id, name, cost)\n",
    "    {\n",
    "        MinDeliveryTime = minDeliveryTime;\n",
    "    }\n",
    "\n",
    "    public override double CalculateCost() \n",
    "    {\n",
    "        // Увеличиваем стоимость на 20% за ускоренную доставку\n",
    "        return Cost * 1.20 ; // \n",
    "    }\n",
    "\n",
    "    public override string EstimateDeliveryTime()\n",
    "    {\n",
    "        return $\"Минимальное время доставки: {MinDeliveryTime.TotalHours} часов.\";\n",
    "    }\n",
    "\n",
    "    public override string GetDeliveryDetails()\n",
    "    {\n",
    "        // Выводим только увеличенную стоимость\n",
    "        return $\"ID клиента: {DeliveryOptionId}. Тип доставки: {DeliveryOptionName}. Стоимость: {CalculateCost()}Р\";\n",
    "    }\n",
    "}\n",
    "\n",
    "public class Pickup : ShippingOption\n",
    "{\n",
    "    public string PickupAddress;\n",
    "\n",
    "    public Pickup(int id, string name, double cost, string pickupAddress)\n",
    "        : base(id, name, cost)\n",
    "    {\n",
    "        PickupAddress = pickupAddress;\n",
    "    }\n",
    "\n",
    "    public override string GetDeliveryDetails()\n",
    "    {\n",
    "        return base.GetDeliveryDetails() + $\". Адрес пункта самовывоза: {PickupAddress}.\";\n",
    "    }\n",
    "}\n",
    "\n",
    "ShippingOption standard = new StandardDelivery(1, \"Стандартная доставка\", 400.0, TimeSpan.FromDays(3));\n",
    "ShippingOption express = new ExpressDelivery(2, \"Экспресс доставка\", 800.0, TimeSpan.FromHours(12));\n",
    "ShippingOption pickup = new Pickup(3, \"Самовывоз\", 0.0, \"Улица Газопромысловая 2\");\n",
    "\n",
    "Console.WriteLine(standard.GetDeliveryDetails());\n",
    "Console.WriteLine(standard.EstimateDeliveryTime());\n",
    "Console.WriteLine();\n",
    "\n",
    "Console.WriteLine(express.GetDeliveryDetails());\n",
    "Console.WriteLine(express.EstimateDeliveryTime());\n",
    "Console.WriteLine();\n",
    "\n",
    "Console.WriteLine(pickup.GetDeliveryDetails());"
   ]
  }
 ],
 "metadata": {
  "kernelspec": {
   "display_name": ".NET (C#)",
   "language": "C#",
   "name": ".net-csharp"
  },
  "polyglot_notebook": {
   "kernelInfo": {
    "defaultKernelName": "csharp",
    "items": [
     {
      "aliases": [],
      "languageName": "csharp",
      "name": "csharp"
     }
    ]
   }
  }
 },
 "nbformat": 4,
 "nbformat_minor": 2
}
